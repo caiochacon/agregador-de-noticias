{
 "cells": [
  {
   "cell_type": "code",
   "execution_count": null,
   "metadata": {},
   "outputs": [],
   "source": [
    "import sys\n",
    "sys.path.append('..')\n",
    "\n",
    "\n",
    "import pandas as pd\n",
    "from sklearn.feature_extraction.text import TfidfVectorizer\n",
    "\n",
    "from src.sentence_cleaner import SentenceCleaner\n",
    "from src.data_scorer_calculator import DataScorerCalculator\n",
    "from src.sentences_similarity_calculator import SentenceSimilarityCalculator"
   ]
  },
  {
   "cell_type": "code",
   "execution_count": null,
   "metadata": {},
   "outputs": [],
   "source": [
    "df_notices = pd.read_csv(\"../dataset/notices.csv\", low_memory=False, encoding=\"UTF-8\")\n",
    "df_notices['publication_date'] = pd.to_datetime(df_notices['publication_date'], format='mixed', errors='coerce')\n",
    "df_notices = df_notices.dropna(subset=['title','publication_date'])\n",
    "df_notices = df_notices.drop_duplicates(subset=['title'])"
   ]
  },
  {
   "cell_type": "code",
   "execution_count": null,
   "metadata": {},
   "outputs": [],
   "source": [
    "df_notices"
   ]
  },
  {
   "cell_type": "code",
   "execution_count": null,
   "metadata": {},
   "outputs": [],
   "source": [
    "data_scorer_calculator = DataScorerCalculator()"
   ]
  },
  {
   "cell_type": "code",
   "execution_count": null,
   "metadata": {},
   "outputs": [],
   "source": [
    "df_notices['normalized_data_scores'] = data_scorer_calculator.calculate_data_score(df_notices['publication_date'])\n"
   ]
  },
  {
   "cell_type": "code",
   "execution_count": null,
   "metadata": {},
   "outputs": [],
   "source": [
    "df_notices"
   ]
  },
  {
   "cell_type": "code",
   "execution_count": null,
   "metadata": {},
   "outputs": [],
   "source": [
    "data_train = df_notices[['title', 'normalized_data_scores']].copy()\n",
    "\n",
    "print('Training dataset size:', len(data_train))"
   ]
  },
  {
   "cell_type": "code",
   "execution_count": null,
   "metadata": {},
   "outputs": [],
   "source": [
    "data_train"
   ]
  },
  {
   "cell_type": "code",
   "execution_count": null,
   "metadata": {},
   "outputs": [],
   "source": [
    "sentece_cleaner = SentenceCleaner()"
   ]
  },
  {
   "cell_type": "code",
   "execution_count": null,
   "metadata": {},
   "outputs": [],
   "source": [
    "data_train.loc[:, 'sentences'] = data_train.loc[:, 'title'].apply(sentece_cleaner.clear_sentence)\n"
   ]
  },
  {
   "cell_type": "code",
   "execution_count": null,
   "metadata": {},
   "outputs": [],
   "source": [
    "data_train['sentences'].values\n"
   ]
  },
  {
   "cell_type": "code",
   "execution_count": null,
   "metadata": {},
   "outputs": [],
   "source": [
    "from sklearn.feature_extraction.text import TfidfVectorizer\n",
    "tfidf_vectorizer = TfidfVectorizer()\n",
    "tfidf_matrix = tfidf_vectorizer.fit_transform(data_train['sentences'].values)\n",
    "tfidf_matrix"
   ]
  },
  {
   "cell_type": "code",
   "execution_count": null,
   "metadata": {},
   "outputs": [],
   "source": [
    "sentences_sym_calculator = SentenceSimilarityCalculator()\n",
    "raw_sentence = 'Trump diz que foi “lindo ver” ação policial contra manifestantes pró-Palestina'\n",
    "new_doc = sentece_cleaner.clear_sentence(raw_sentence)\n",
    "new_sent = tfidf_vectorizer.transform([new_doc])"
   ]
  },
  {
   "cell_type": "code",
   "execution_count": null,
   "metadata": {},
   "outputs": [],
   "source": [
    "print(f'Alvo -> {raw_sentence}')\n",
    "print('\\nTop-5 similarity rate:\\n')\n",
    "\n",
    "for idx in sentences_sym_calculator.sym_by_date(new_sent, tfidf_matrix, data_train['normalized_data_scores'].values, 20, 5):\n",
    "    print(f'{data_train[\"title\"].values[idx]}')"
   ]
  }
 ],
 "metadata": {
  "kernelspec": {
   "display_name": "Python 3",
   "language": "python",
   "name": "python3"
  },
  "language_info": {
   "codemirror_mode": {
    "name": "ipython",
    "version": 3
   },
   "file_extension": ".py",
   "mimetype": "text/x-python",
   "name": "python",
   "nbconvert_exporter": "python",
   "pygments_lexer": "ipython3",
   "version": "3.10.12"
  }
 },
 "nbformat": 4,
 "nbformat_minor": 2
}
