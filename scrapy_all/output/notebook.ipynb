{
 "cells": [
  {
   "cell_type": "code",
   "execution_count": 28,
   "metadata": {},
   "outputs": [],
   "source": [
    "import pandas as pd"
   ]
  },
  {
   "cell_type": "code",
   "execution_count": 29,
   "metadata": {},
   "outputs": [],
   "source": [
    "df = pd.read_csv('notices.csv')"
   ]
  },
  {
   "cell_type": "code",
   "execution_count": 37,
   "metadata": {},
   "outputs": [
    {
     "data": {
      "text/html": [
       "<div>\n",
       "<style scoped>\n",
       "    .dataframe tbody tr th:only-of-type {\n",
       "        vertical-align: middle;\n",
       "    }\n",
       "\n",
       "    .dataframe tbody tr th {\n",
       "        vertical-align: top;\n",
       "    }\n",
       "\n",
       "    .dataframe thead th {\n",
       "        text-align: right;\n",
       "    }\n",
       "</style>\n",
       "<table border=\"1\" class=\"dataframe\">\n",
       "  <thead>\n",
       "    <tr style=\"text-align: right;\">\n",
       "      <th></th>\n",
       "      <th>title</th>\n",
       "      <th>text</th>\n",
       "      <th>category</th>\n",
       "      <th>publication_date</th>\n",
       "      <th>source</th>\n",
       "      <th>image</th>\n",
       "      <th>link</th>\n",
       "    </tr>\n",
       "  </thead>\n",
       "  <tbody>\n",
       "    <tr>\n",
       "      <th>181</th>\n",
       "      <td>Zoológico de São Paulo ganha centro de preserv...</td>\n",
       "      <td>O novo centro de conservação, em parceria com ...</td>\n",
       "      <td>Jornal Nacional</td>\n",
       "      <td>2024-05-02 21:47:50.613837</td>\n",
       "      <td>G1</td>\n",
       "      <td>https://s2-g1.glbimg.com/AHORWKJT2DSA0xHAMsK4d...</td>\n",
       "      <td>https://g1.globo.com/jornal-nacional/noticia/2...</td>\n",
       "    </tr>\n",
       "    <tr>\n",
       "      <th>182</th>\n",
       "      <td>Com professores e técnicos em greve, alunos re...</td>\n",
       "      <td>Acadêmicos protestaram em frente à reitoria da...</td>\n",
       "      <td>Acre</td>\n",
       "      <td>2024-05-02 21:47:50.617286</td>\n",
       "      <td>G1</td>\n",
       "      <td>https://s2-g1.glbimg.com/AHORWKJT2DSA0xHAMsK4d...</td>\n",
       "      <td>https://g1.globo.com/ac/acre/noticia/2024/05/0...</td>\n",
       "    </tr>\n",
       "    <tr>\n",
       "      <th>183</th>\n",
       "      <td>Operação da Polícia Civil prende mais de 60 pe...</td>\n",
       "      <td>Além das prisões, a Polícia também apreendeu a...</td>\n",
       "      <td>Vale do Paraíba e Região</td>\n",
       "      <td>2024-05-02 20:47:50.620602</td>\n",
       "      <td>G1</td>\n",
       "      <td>https://s2-g1.glbimg.com/AHORWKJT2DSA0xHAMsK4d...</td>\n",
       "      <td>https://g1.globo.com/sp/vale-do-paraiba-regiao...</td>\n",
       "    </tr>\n",
       "    <tr>\n",
       "      <th>184</th>\n",
       "      <td>VÍDEO: helicóptero resgata moradores sobre tel...</td>\n",
       "      <td>Jornalista de GZH, do Grupo RBS, acompanhou aç...</td>\n",
       "      <td>Rio Grande do Sul</td>\n",
       "      <td>2024-05-02 20:47:50.623841</td>\n",
       "      <td>G1</td>\n",
       "      <td>https://s2-g1.glbimg.com/AHORWKJT2DSA0xHAMsK4d...</td>\n",
       "      <td>https://g1.globo.com/rs/rio-grande-do-sul/noti...</td>\n",
       "    </tr>\n",
       "    <tr>\n",
       "      <th>185</th>\n",
       "      <td>COI anuncia equipe de refugiados que vai compe...</td>\n",
       "      <td>A delegação reúne atletas de 11 nacionalidades...</td>\n",
       "      <td>Jornal Nacional</td>\n",
       "      <td>2024-05-02 20:47:50.627178</td>\n",
       "      <td>G1</td>\n",
       "      <td>https://s2-g1.glbimg.com/AHORWKJT2DSA0xHAMsK4d...</td>\n",
       "      <td>https://g1.globo.com/jornal-nacional/noticia/2...</td>\n",
       "    </tr>\n",
       "  </tbody>\n",
       "</table>\n",
       "</div>"
      ],
      "text/plain": [
       "                                                 title  \\\n",
       "181  Zoológico de São Paulo ganha centro de preserv...   \n",
       "182  Com professores e técnicos em greve, alunos re...   \n",
       "183  Operação da Polícia Civil prende mais de 60 pe...   \n",
       "184  VÍDEO: helicóptero resgata moradores sobre tel...   \n",
       "185  COI anuncia equipe de refugiados que vai compe...   \n",
       "\n",
       "                                                  text  \\\n",
       "181  O novo centro de conservação, em parceria com ...   \n",
       "182  Acadêmicos protestaram em frente à reitoria da...   \n",
       "183  Além das prisões, a Polícia também apreendeu a...   \n",
       "184  Jornalista de GZH, do Grupo RBS, acompanhou aç...   \n",
       "185  A delegação reúne atletas de 11 nacionalidades...   \n",
       "\n",
       "                       category            publication_date source  \\\n",
       "181            Jornal Nacional   2024-05-02 21:47:50.613837     G1   \n",
       "182                       Acre   2024-05-02 21:47:50.617286     G1   \n",
       "183   Vale do Paraíba e Região   2024-05-02 20:47:50.620602     G1   \n",
       "184          Rio Grande do Sul   2024-05-02 20:47:50.623841     G1   \n",
       "185            Jornal Nacional   2024-05-02 20:47:50.627178     G1   \n",
       "\n",
       "                                                 image  \\\n",
       "181  https://s2-g1.glbimg.com/AHORWKJT2DSA0xHAMsK4d...   \n",
       "182  https://s2-g1.glbimg.com/AHORWKJT2DSA0xHAMsK4d...   \n",
       "183  https://s2-g1.glbimg.com/AHORWKJT2DSA0xHAMsK4d...   \n",
       "184  https://s2-g1.glbimg.com/AHORWKJT2DSA0xHAMsK4d...   \n",
       "185  https://s2-g1.glbimg.com/AHORWKJT2DSA0xHAMsK4d...   \n",
       "\n",
       "                                                  link  \n",
       "181  https://g1.globo.com/jornal-nacional/noticia/2...  \n",
       "182  https://g1.globo.com/ac/acre/noticia/2024/05/0...  \n",
       "183  https://g1.globo.com/sp/vale-do-paraiba-regiao...  \n",
       "184  https://g1.globo.com/rs/rio-grande-do-sul/noti...  \n",
       "185  https://g1.globo.com/jornal-nacional/noticia/2...  "
      ]
     },
     "execution_count": 37,
     "metadata": {},
     "output_type": "execute_result"
    }
   ],
   "source": [
    "df.tail()"
   ]
  }
 ],
 "metadata": {
  "kernelspec": {
   "display_name": "eng_software",
   "language": "python",
   "name": "python3"
  },
  "language_info": {
   "codemirror_mode": {
    "name": "ipython",
    "version": 3
   },
   "file_extension": ".py",
   "mimetype": "text/x-python",
   "name": "python",
   "nbconvert_exporter": "python",
   "pygments_lexer": "ipython3",
   "version": "3.10.12"
  }
 },
 "nbformat": 4,
 "nbformat_minor": 2
}
