{
 "cells": [
  {
   "cell_type": "code",
   "execution_count": 1,
   "metadata": {},
   "outputs": [],
   "source": [
    "import pandas as pd"
   ]
  },
  {
   "cell_type": "code",
   "execution_count": 2,
   "metadata": {},
   "outputs": [],
   "source": [
    "max_pages = 6\n",
    "\n",
    "start_urls = [f'https://www.cartacapital.com.br/mais-recentes/'] \n",
    "\n",
    "next_urls = [f'https://www.cartacapital.com.br/mais-recentes/page/{num_page}/'\n",
    "            for num_page in range(2, max_pages+1)]\n",
    "start_urls.extend(next_urls)\n"
   ]
  },
  {
   "cell_type": "code",
   "execution_count": 3,
   "metadata": {},
   "outputs": [
    {
     "data": {
      "text/plain": [
       "['https://www.cartacapital.com.br/mais-recentes/',\n",
       " 'https://www.cartacapital.com.br/mais-recentes/page/2/',\n",
       " 'https://www.cartacapital.com.br/mais-recentes/page/3/',\n",
       " 'https://www.cartacapital.com.br/mais-recentes/page/4/',\n",
       " 'https://www.cartacapital.com.br/mais-recentes/page/5/',\n",
       " 'https://www.cartacapital.com.br/mais-recentes/page/6/']"
      ]
     },
     "execution_count": 3,
     "metadata": {},
     "output_type": "execute_result"
    }
   ],
   "source": [
    "start_urls"
   ]
  },
  {
   "cell_type": "code",
   "execution_count": 12,
   "metadata": {},
   "outputs": [],
   "source": [
    "df = pd.read_csv('notices.csv')"
   ]
  },
  {
   "cell_type": "code",
   "execution_count": 13,
   "metadata": {},
   "outputs": [],
   "source": [
    "df = df.dropna().drop_duplicates()"
   ]
  },
  {
   "cell_type": "code",
   "execution_count": 24,
   "metadata": {},
   "outputs": [
    {
     "data": {
      "text/plain": [
       "link\n",
       "https://g1.globo.com/ce/ceara/cariri/noticia/2024/04/02/mae-e-filha-com-autismo-usam-as-redes-sociais-para-desmistificar-preconceitos-sobre-o-transtorno.ghtml              28198\n",
       "https://g1.globo.com/pr/campos-gerais-sul/noticia/2024/04/02/leilao-da-receita-federal-conheca-as-regras-para-participar-e-cuidados-na-hora-de-fazer-um-lance.ghtml         27054\n",
       "https://g1.globo.com/sc/santa-catarina/noticia/2024/04/02/quem-e-o-juiz-de-sc-que-descobriu-autismo-aos-47-anos-e-participa-de-sessoes-com-cordao-de-identificacao.ghtml    26836\n",
       "https://g1.globo.com/ce/ceara/noticia/2024/04/02/pelo-menos-15-pessoas-sofreram-lesoes-causadas-por-aguas-vivas-na-praia-da-taiba-no-ceara.ghtml                            25880\n",
       "https://g1.globo.com/es/espirito-santo/noticia/2024/04/02/14-golfinhos-sao-encontrados-mortos-no-litoral-do-es-em-dois-meses.ghtml                                          25477\n",
       "                                                                                                                                                                            ...  \n",
       "https://www.cartacapital.com.br/politica/bolsonaro-participa-de-cerimonia-militar-no-rio-sem-falar-do-caso-daniel-silveira/                                                     1\n",
       "https://www.cartacapital.com.br/opiniao/os-desfiles-de-carnaval-e-a-saudade-da-minha-irma/                                                                                      1\n",
       "https://www.cartacapital.com.br/politica/bolsonaro-indulto-a-daniel-silveira-simboliza-garantia-da-nossa-liberdade/                                                             1\n",
       "https://www.cartacapital.com.br/politica/pesquisa-ipespe-lula-tem-45-e-bolsonaro-31/                                                                                            1\n",
       "https://g1.globo.com/sp/itapetininga-regiao/noticia/2024/04/02/ifsp-oferece-curso-preparatorio-gratuito-para-o-enem-em-itapetininga.ghtml                                       1\n",
       "Name: count, Length: 93563, dtype: int64"
      ]
     },
     "execution_count": 24,
     "metadata": {},
     "output_type": "execute_result"
    }
   ],
   "source": [
    "df['link'].value_counts()"
   ]
  }
 ],
 "metadata": {
  "kernelspec": {
   "display_name": "eng_software",
   "language": "python",
   "name": "python3"
  },
  "language_info": {
   "codemirror_mode": {
    "name": "ipython",
    "version": 3
   },
   "file_extension": ".py",
   "mimetype": "text/x-python",
   "name": "python",
   "nbconvert_exporter": "python",
   "pygments_lexer": "ipython3",
   "version": "3.10.12"
  }
 },
 "nbformat": 4,
 "nbformat_minor": 2
}
